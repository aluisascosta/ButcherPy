{
 "cells": [
  {
   "cell_type": "code",
   "execution_count": 34,
   "id": "6a006bea-8624-4d71-a98e-eaf0dae69c33",
   "metadata": {
    "tags": []
   },
   "outputs": [],
   "source": [
    "import torch\n",
    "import matplotlib.pyplot as plt\n",
    "import numpy as np"
   ]
  },
  {
   "cell_type": "code",
   "execution_count": 27,
   "id": "8e51fc83-9e48-43a2-a702-b4172b6f6439",
   "metadata": {
    "tags": []
   },
   "outputs": [
    {
     "data": {
      "text/plain": [
       "tensor([[0.8495, 0.1136, 0.5931,  ..., 0.6565, 0.2427, 0.4588],\n",
       "        [0.0568, 0.3488, 0.7208,  ..., 0.7778, 0.9527, 0.1710],\n",
       "        [0.8997, 0.6013, 0.8122,  ..., 0.8031, 0.2400, 0.5685],\n",
       "        [0.9665, 0.6617, 0.4949,  ..., 0.9097, 0.4450, 0.4667]])"
      ]
     },
     "execution_count": 27,
     "metadata": {},
     "output_type": "execute_result"
    }
   ],
   "source": [
    "rank = 4\n",
    "m = 2000\n",
    "\n",
    "h_mat = torch.empty(rank, m).uniform_(0, 1)\n",
    "h_mat"
   ]
  },
  {
   "cell_type": "code",
   "execution_count": 43,
   "id": "493e701d-bf7d-473e-84cd-1357765e43b5",
   "metadata": {
    "tags": []
   },
   "outputs": [
    {
     "data": {
      "text/plain": [
       "(tensor([0, 2]),)"
      ]
     },
     "execution_count": 43,
     "metadata": {},
     "output_type": "execute_result"
    }
   ],
   "source": [
    "f_1 = torch.Tensor([np.nan, 0, np.nan, 2,10, 20])\n",
    "torch.where(torch.isnan(f_1))"
   ]
  },
  {
   "cell_type": "code",
   "execution_count": null,
   "id": "ca37d9a5-552e-4ab6-8f2a-0b4fac8a3d68",
   "metadata": {},
   "outputs": [],
   "source": []
  }
 ],
 "metadata": {
  "kernelspec": {
   "display_name": "forPytorch",
   "language": "python",
   "name": "forpytorch"
  },
  "language_info": {
   "codemirror_mode": {
    "name": "ipython",
    "version": 3
   },
   "file_extension": ".py",
   "mimetype": "text/x-python",
   "name": "python",
   "nbconvert_exporter": "python",
   "pygments_lexer": "ipython3",
   "version": "3.8.3"
  }
 },
 "nbformat": 4,
 "nbformat_minor": 5
}
